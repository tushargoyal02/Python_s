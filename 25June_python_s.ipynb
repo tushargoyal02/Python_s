{
 "cells": [
  {
   "cell_type": "code",
   "execution_count": 1,
   "id": "30bce443",
   "metadata": {},
   "outputs": [
    {
     "name": "stdout",
     "output_type": "stream",
     "text": [
      "hello world\n"
     ]
    }
   ],
   "source": [
    "print(\"hello world\")"
   ]
  },
  {
   "cell_type": "code",
   "execution_count": 9,
   "id": "18c4c697",
   "metadata": {},
   "outputs": [
    {
     "name": "stdout",
     "output_type": "stream",
     "text": [
      "hello world$hello tushar\n",
      "regex\n"
     ]
    }
   ],
   "source": [
    "print(\"hello world\",end=\"$\")\n",
    "print(\"hello tushar\")\n",
    "print(\"regex\")"
   ]
  },
  {
   "cell_type": "code",
   "execution_count": 13,
   "id": "c7327984",
   "metadata": {},
   "outputs": [
    {
     "name": "stdout",
     "output_type": "stream",
     "text": [
      "10 <class 'int'>\n"
     ]
    }
   ],
   "source": [
    "# comment here - dynamic typed\n",
    "# int  variable= value\n",
    "\n",
    "x=10\n",
    "print(x, type(x))"
   ]
  },
  {
   "cell_type": "code",
   "execution_count": 15,
   "id": "6278c8b9",
   "metadata": {},
   "outputs": [
    {
     "name": "stdout",
     "output_type": "stream",
     "text": [
      "10 <class 'str'>\n"
     ]
    }
   ],
   "source": [
    "x=\"10\"\n",
    "print(x, type(x))"
   ]
  },
  {
   "cell_type": "code",
   "execution_count": 17,
   "id": "737bfd76",
   "metadata": {},
   "outputs": [
    {
     "name": "stdout",
     "output_type": "stream",
     "text": [
      "<class 'str'>\n"
     ]
    }
   ],
   "source": [
    "x='10'\n",
    "print(type(x))"
   ]
  },
  {
   "cell_type": "code",
   "execution_count": 20,
   "id": "56eb9189",
   "metadata": {},
   "outputs": [
    {
     "name": "stdout",
     "output_type": "stream",
     "text": [
      "B35 basant bahar\n",
      "gopalpura bypass\n"
     ]
    }
   ],
   "source": [
    "# multi line string => \"\"\"   \"\"\"\n",
    "address='''B35 basant bahar\n",
    "gopalpura bypass'''\n",
    "\n",
    "print(address)"
   ]
  },
  {
   "cell_type": "code",
   "execution_count": 21,
   "id": "ec882163",
   "metadata": {},
   "outputs": [
    {
     "data": {
      "text/plain": [
       "'\\n\\n'"
      ]
     },
     "execution_count": 21,
     "metadata": {},
     "output_type": "execute_result"
    }
   ],
   "source": [
    "# hey\n",
    "# dsalf\n",
    "'''\n",
    "\n",
    "'''\n"
   ]
  },
  {
   "cell_type": "code",
   "execution_count": 24,
   "id": "cd153363",
   "metadata": {},
   "outputs": [
    {
     "name": "stdout",
     "output_type": "stream",
     "text": [
      "Year is  2015 Company name is regex software\n"
     ]
    }
   ],
   "source": [
    "#  string formatting\n",
    "#%d,  %s\n",
    "year=2015\n",
    "company=\"regex software\"\n",
    "\n",
    "print(\"Year is \",year, \"Company name is\", company)"
   ]
  },
  {
   "cell_type": "code",
   "execution_count": 29,
   "id": "9260c9df",
   "metadata": {},
   "outputs": [
    {
     "name": "stdout",
     "output_type": "stream",
     "text": [
      "Year is 2015 Company name is regex software\n"
     ]
    }
   ],
   "source": [
    "print(f\"Year is {year} Company name is {company}\")"
   ]
  },
  {
   "cell_type": "code",
   "execution_count": 31,
   "id": "6aafa444",
   "metadata": {},
   "outputs": [
    {
     "name": "stdout",
     "output_type": "stream",
     "text": [
      "Year is 2015 Company name is regex software\n"
     ]
    }
   ],
   "source": [
    "x= f\"Year is {year} Company name is {company}\"\n",
    "print(x)"
   ]
  },
  {
   "cell_type": "code",
   "execution_count": 33,
   "id": "08416313",
   "metadata": {},
   "outputs": [
    {
     "name": "stdout",
     "output_type": "stream",
     "text": [
      "hey user regex\n",
      "hey user regex\n"
     ]
    }
   ],
   "source": [
    "username=\"regex\"\n",
    "msg = f\"hey user {username}\"\n",
    "\n",
    "print(msg)\n",
    "\n",
    "username=\"aman\"\n",
    "print(msg)"
   ]
  },
  {
   "cell_type": "code",
   "execution_count": null,
   "id": "38a10431",
   "metadata": {},
   "outputs": [],
   "source": []
  },
  {
   "cell_type": "code",
   "execution_count": 38,
   "id": "b7498f97",
   "metadata": {},
   "outputs": [
    {
     "data": {
      "text/plain": [
       "'RAJA'"
      ]
     },
     "execution_count": 38,
     "metadata": {},
     "output_type": "execute_result"
    }
   ],
   "source": [
    "state=\"RAJASTHAN\"\n",
    "state[0:4]"
   ]
  },
  {
   "cell_type": "code",
   "execution_count": 40,
   "id": "cf6f7d01",
   "metadata": {},
   "outputs": [
    {
     "data": {
      "text/plain": [
       "'JA'"
      ]
     },
     "execution_count": 40,
     "metadata": {},
     "output_type": "execute_result"
    }
   ],
   "source": [
    "state=\"RAJASTHAN\"\n",
    "state[2:4]"
   ]
  },
  {
   "cell_type": "code",
   "execution_count": 43,
   "id": "9b412631",
   "metadata": {},
   "outputs": [
    {
     "data": {
      "text/plain": [
       "'JASTHAN'"
      ]
     },
     "execution_count": 43,
     "metadata": {},
     "output_type": "execute_result"
    }
   ],
   "source": [
    "state=\"RAJASTHAN\"\n",
    "state[2:]"
   ]
  },
  {
   "cell_type": "code",
   "execution_count": 44,
   "id": "68a5872f",
   "metadata": {},
   "outputs": [
    {
     "data": {
      "text/plain": [
       "'RJS'"
      ]
     },
     "execution_count": 44,
     "metadata": {},
     "output_type": "execute_result"
    }
   ],
   "source": [
    "state=\"RAJASTHAN\"\n",
    "state[:5:2]\n",
    "#[0:5]\n",
    "#[0:5:1]"
   ]
  },
  {
   "cell_type": "code",
   "execution_count": 46,
   "id": "e49237ac",
   "metadata": {},
   "outputs": [
    {
     "data": {
      "text/plain": [
       "'JT'"
      ]
     },
     "execution_count": 46,
     "metadata": {},
     "output_type": "execute_result"
    }
   ],
   "source": [
    "state=\"RAJASTHAN\"\n",
    "state[2:7:3]"
   ]
  },
  {
   "cell_type": "code",
   "execution_count": 48,
   "id": "50890ad0",
   "metadata": {},
   "outputs": [
    {
     "data": {
      "text/plain": [
       "'RAJA'"
      ]
     },
     "execution_count": 48,
     "metadata": {},
     "output_type": "execute_result"
    }
   ],
   "source": [
    "state=\"RAJASTHAN\"\n",
    "state[0:4:1]"
   ]
  },
  {
   "cell_type": "code",
   "execution_count": 50,
   "id": "57f4b0be",
   "metadata": {},
   "outputs": [
    {
     "data": {
      "text/plain": [
       "''"
      ]
     },
     "execution_count": 50,
     "metadata": {},
     "output_type": "execute_result"
    }
   ],
   "source": [
    "state=\"RAJASTHAN\"\n",
    "state[-1:-4]"
   ]
  },
  {
   "cell_type": "code",
   "execution_count": 51,
   "id": "4dc06c9b",
   "metadata": {},
   "outputs": [
    {
     "data": {
      "text/plain": [
       "'NAH'"
      ]
     },
     "execution_count": 51,
     "metadata": {},
     "output_type": "execute_result"
    }
   ],
   "source": [
    "state=\"RAJASTHAN\"\n",
    "state[-1:-4:-1]"
   ]
  }
 ],
 "metadata": {
  "kernelspec": {
   "display_name": "Python 3 (ipykernel)",
   "language": "python",
   "name": "python3"
  },
  "language_info": {
   "codemirror_mode": {
    "name": "ipython",
    "version": 3
   },
   "file_extension": ".py",
   "mimetype": "text/x-python",
   "name": "python",
   "nbconvert_exporter": "python",
   "pygments_lexer": "ipython3",
   "version": "3.10.11"
  }
 },
 "nbformat": 4,
 "nbformat_minor": 5
}
